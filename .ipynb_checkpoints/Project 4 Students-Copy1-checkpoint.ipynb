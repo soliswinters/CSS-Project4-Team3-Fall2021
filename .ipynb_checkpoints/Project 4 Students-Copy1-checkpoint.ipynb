{
 "cells": [
  {
   "cell_type": "markdown",
   "metadata": {},
   "source": [
    "# [Computational Social Science] Project 4: Unsupervised Learning"
   ]
  },
  {
   "cell_type": "markdown",
   "metadata": {},
   "source": [
    "## Data Description and Preprocessing\n",
    "\n",
    "For this project, you will explore data from the [National Health and Nutrition Examination Survey](https://www.kaggle.com/cdc/national-health-and-nutrition-examination-survey?select=questionnaire.csv). NHANES is a unique study that combines survey methodology with in-person medical examinations to create a dataset with demographic information, health indicators, and health outcomes."
   ]
  },
  {
   "cell_type": "markdown",
   "metadata": {},
   "source": [
    "We start by importing the data and doing some preliminary preprocessing for you. We import some libraries that will be helpful as well. 'SEQN' is the ID number for each respondent, and 'HSD010' will be our target outcome. [HSD010](https://wwwn.cdc.gov/Nchs/Nhanes/2013-2014/HSQ_H.htm#HSD010) asks for the respondent's self reported health condition, which can range from \"excellent\" to \"poor.\""
   ]
  },
  {
   "cell_type": "code",
   "execution_count": 1,
   "metadata": {},
   "outputs": [],
   "source": [
    "# Import libraries\n",
    "import pandas as pd\n",
    "import numpy as np\n",
    "from sklearn.cluster import KMeans\n",
    "from sklearn.decomposition import PCA\n",
    "from sklearn.preprocessing import StandardScaler\n",
    "import matplotlib.pyplot as plt\n",
    "%matplotlib inline\n",
    "import seaborn as sns\n",
    "from sklearn.model_selection import train_test_split\n",
    "sns.set_style(\"darkgrid\")\n",
    "from sklearn.model_selection import train_test_split"
   ]
  },
  {
   "cell_type": "code",
   "execution_count": 2,
   "metadata": {
    "scrolled": true
   },
   "outputs": [
    {
     "data": {
      "text/html": [
       "<div>\n",
       "<style scoped>\n",
       "    .dataframe tbody tr th:only-of-type {\n",
       "        vertical-align: middle;\n",
       "    }\n",
       "\n",
       "    .dataframe tbody tr th {\n",
       "        vertical-align: top;\n",
       "    }\n",
       "\n",
       "    .dataframe thead th {\n",
       "        text-align: right;\n",
       "    }\n",
       "</style>\n",
       "<table border=\"1\" class=\"dataframe\">\n",
       "  <thead>\n",
       "    <tr style=\"text-align: right;\">\n",
       "      <th></th>\n",
       "      <th>DR1DRSTZ</th>\n",
       "      <th>DR1EXMER</th>\n",
       "      <th>DRABF</th>\n",
       "      <th>DRDINT</th>\n",
       "      <th>DR1DBIH</th>\n",
       "      <th>DR1DAY</th>\n",
       "      <th>DR1LANG</th>\n",
       "      <th>DR1MNRSP</th>\n",
       "      <th>DR1HELPD</th>\n",
       "      <th>DBQ095Z</th>\n",
       "      <th>...</th>\n",
       "      <th>OHQ770</th>\n",
       "      <th>OHQ845</th>\n",
       "      <th>PAAQUEX</th>\n",
       "      <th>SMQ860</th>\n",
       "      <th>SMQ870</th>\n",
       "      <th>SMQ872</th>\n",
       "      <th>SMQ874</th>\n",
       "      <th>SMQ878</th>\n",
       "      <th>SMAQUEX.x</th>\n",
       "      <th>HSD010</th>\n",
       "    </tr>\n",
       "    <tr>\n",
       "      <th>SEQN</th>\n",
       "      <th></th>\n",
       "      <th></th>\n",
       "      <th></th>\n",
       "      <th></th>\n",
       "      <th></th>\n",
       "      <th></th>\n",
       "      <th></th>\n",
       "      <th></th>\n",
       "      <th></th>\n",
       "      <th></th>\n",
       "      <th></th>\n",
       "      <th></th>\n",
       "      <th></th>\n",
       "      <th></th>\n",
       "      <th></th>\n",
       "      <th></th>\n",
       "      <th></th>\n",
       "      <th></th>\n",
       "      <th></th>\n",
       "      <th></th>\n",
       "      <th></th>\n",
       "    </tr>\n",
       "  </thead>\n",
       "  <tbody>\n",
       "    <tr>\n",
       "      <th>73568</th>\n",
       "      <td>0.0</td>\n",
       "      <td>2.034312</td>\n",
       "      <td>0.0</td>\n",
       "      <td>0.324834</td>\n",
       "      <td>-0.393906</td>\n",
       "      <td>1.085853</td>\n",
       "      <td>-0.194202</td>\n",
       "      <td>-0.057306</td>\n",
       "      <td>0.128246</td>\n",
       "      <td>-0.189513</td>\n",
       "      <td>...</td>\n",
       "      <td>0.383802</td>\n",
       "      <td>-0.646584</td>\n",
       "      <td>-0.484200</td>\n",
       "      <td>1.125008</td>\n",
       "      <td>0.0</td>\n",
       "      <td>-2.081666</td>\n",
       "      <td>1.087115</td>\n",
       "      <td>1.463404</td>\n",
       "      <td>0.612440</td>\n",
       "      <td>1</td>\n",
       "    </tr>\n",
       "    <tr>\n",
       "      <th>73576</th>\n",
       "      <td>0.0</td>\n",
       "      <td>0.261930</td>\n",
       "      <td>0.0</td>\n",
       "      <td>-3.078499</td>\n",
       "      <td>0.568251</td>\n",
       "      <td>0.634362</td>\n",
       "      <td>-0.194202</td>\n",
       "      <td>-0.057306</td>\n",
       "      <td>0.128246</td>\n",
       "      <td>0.080373</td>\n",
       "      <td>...</td>\n",
       "      <td>0.383802</td>\n",
       "      <td>-1.539259</td>\n",
       "      <td>-0.484200</td>\n",
       "      <td>1.125008</td>\n",
       "      <td>0.0</td>\n",
       "      <td>-2.081666</td>\n",
       "      <td>1.087115</td>\n",
       "      <td>-0.683338</td>\n",
       "      <td>-1.632812</td>\n",
       "      <td>1</td>\n",
       "    </tr>\n",
       "    <tr>\n",
       "      <th>73579</th>\n",
       "      <td>0.0</td>\n",
       "      <td>0.728346</td>\n",
       "      <td>0.0</td>\n",
       "      <td>0.324834</td>\n",
       "      <td>1.530407</td>\n",
       "      <td>-1.623092</td>\n",
       "      <td>-0.194202</td>\n",
       "      <td>-0.057306</td>\n",
       "      <td>0.128246</td>\n",
       "      <td>-0.189513</td>\n",
       "      <td>...</td>\n",
       "      <td>0.383802</td>\n",
       "      <td>-1.539259</td>\n",
       "      <td>2.065262</td>\n",
       "      <td>-0.888883</td>\n",
       "      <td>0.0</td>\n",
       "      <td>0.480384</td>\n",
       "      <td>-0.919866</td>\n",
       "      <td>-0.683338</td>\n",
       "      <td>-1.632812</td>\n",
       "      <td>2</td>\n",
       "    </tr>\n",
       "    <tr>\n",
       "      <th>73581</th>\n",
       "      <td>0.0</td>\n",
       "      <td>-0.857470</td>\n",
       "      <td>0.0</td>\n",
       "      <td>0.324834</td>\n",
       "      <td>0.480782</td>\n",
       "      <td>1.085853</td>\n",
       "      <td>-0.194202</td>\n",
       "      <td>-0.057306</td>\n",
       "      <td>0.128246</td>\n",
       "      <td>0.080373</td>\n",
       "      <td>...</td>\n",
       "      <td>0.383802</td>\n",
       "      <td>-0.646584</td>\n",
       "      <td>-0.484200</td>\n",
       "      <td>1.125008</td>\n",
       "      <td>0.0</td>\n",
       "      <td>0.480384</td>\n",
       "      <td>-0.919866</td>\n",
       "      <td>-0.683338</td>\n",
       "      <td>0.612440</td>\n",
       "      <td>2</td>\n",
       "    </tr>\n",
       "    <tr>\n",
       "      <th>73584</th>\n",
       "      <td>0.0</td>\n",
       "      <td>0.495138</td>\n",
       "      <td>0.0</td>\n",
       "      <td>0.324834</td>\n",
       "      <td>0.305844</td>\n",
       "      <td>-1.623092</td>\n",
       "      <td>-0.194202</td>\n",
       "      <td>-0.057306</td>\n",
       "      <td>0.128246</td>\n",
       "      <td>0.080373</td>\n",
       "      <td>...</td>\n",
       "      <td>-2.605509</td>\n",
       "      <td>0.246091</td>\n",
       "      <td>2.065262</td>\n",
       "      <td>1.125008</td>\n",
       "      <td>0.0</td>\n",
       "      <td>0.480384</td>\n",
       "      <td>-0.919866</td>\n",
       "      <td>1.463404</td>\n",
       "      <td>-1.632812</td>\n",
       "      <td>3</td>\n",
       "    </tr>\n",
       "  </tbody>\n",
       "</table>\n",
       "<p>5 rows × 242 columns</p>\n",
       "</div>"
      ],
      "text/plain": [
       "       DR1DRSTZ  DR1EXMER  DRABF    DRDINT   DR1DBIH    DR1DAY   DR1LANG  \\\n",
       "SEQN                                                                       \n",
       "73568       0.0  2.034312    0.0  0.324834 -0.393906  1.085853 -0.194202   \n",
       "73576       0.0  0.261930    0.0 -3.078499  0.568251  0.634362 -0.194202   \n",
       "73579       0.0  0.728346    0.0  0.324834  1.530407 -1.623092 -0.194202   \n",
       "73581       0.0 -0.857470    0.0  0.324834  0.480782  1.085853 -0.194202   \n",
       "73584       0.0  0.495138    0.0  0.324834  0.305844 -1.623092 -0.194202   \n",
       "\n",
       "       DR1MNRSP  DR1HELPD   DBQ095Z  ...    OHQ770    OHQ845   PAAQUEX  \\\n",
       "SEQN                                 ...                                 \n",
       "73568 -0.057306  0.128246 -0.189513  ...  0.383802 -0.646584 -0.484200   \n",
       "73576 -0.057306  0.128246  0.080373  ...  0.383802 -1.539259 -0.484200   \n",
       "73579 -0.057306  0.128246 -0.189513  ...  0.383802 -1.539259  2.065262   \n",
       "73581 -0.057306  0.128246  0.080373  ...  0.383802 -0.646584 -0.484200   \n",
       "73584 -0.057306  0.128246  0.080373  ... -2.605509  0.246091  2.065262   \n",
       "\n",
       "         SMQ860  SMQ870    SMQ872    SMQ874    SMQ878  SMAQUEX.x  HSD010  \n",
       "SEQN                                                                      \n",
       "73568  1.125008     0.0 -2.081666  1.087115  1.463404   0.612440       1  \n",
       "73576  1.125008     0.0 -2.081666  1.087115 -0.683338  -1.632812       1  \n",
       "73579 -0.888883     0.0  0.480384 -0.919866 -0.683338  -1.632812       2  \n",
       "73581  1.125008     0.0  0.480384 -0.919866 -0.683338   0.612440       2  \n",
       "73584  1.125008     0.0  0.480384 -0.919866  1.463404  -1.632812       3  \n",
       "\n",
       "[5 rows x 242 columns]"
      ]
     },
     "execution_count": 2,
     "metadata": {},
     "output_type": "execute_result"
    }
   ],
   "source": [
    "# Load nhanes data\n",
    "nhanes = pd.read_csv('nhanes.csv')\n",
    "# Get the ID numbers for each observation (seqn)\n",
    "seqn = nhanes['SEQN']\n",
    "# Get the target, \"self-reported health condition,\" HSD010\n",
    "hsd010 = nhanes['HSD010']\n",
    "# Drop SEQN from the dataframe and then apply the standard scaler\n",
    "nhanes = nhanes.drop(['SEQN', 'HSD010'], axis = 1)\n",
    "nhanes_scaled = pd.DataFrame(StandardScaler().fit_transform(nhanes),\n",
    "                             columns = nhanes.columns)\n",
    "# Add the ID and target back in\n",
    "nhanes_scaled['SEQN'] = seqn\n",
    "nhanes_scaled['HSD010'] = hsd010\n",
    "nhanes_scaled = nhanes_scaled.set_index('SEQN')\n",
    "nhanes_scaled.head()"
   ]
  },
  {
   "cell_type": "markdown",
   "metadata": {},
   "source": [
    "## Plots"
   ]
  },
  {
   "cell_type": "markdown",
   "metadata": {},
   "source": [
    "Let's take a look at the data. Below we visualize boxplots of family income to federal poverty line ratio ('INDFMPIR') and self-reported health condition. Notice how there are some clear patterns (the lower the ratio, the lower reported health condition), but it's not a perfect separation. We have 240+ features in our dataset, and we likely have several features in our dataset that highly correlate with our family income-poverty line ratio measure - PCA will help us simplify these."
   ]
  },
  {
   "cell_type": "code",
   "execution_count": 3,
   "metadata": {},
   "outputs": [
    {
     "data": {
      "image/png": "[encoded data removed]",
      "text/plain": [
       "<Figure size 432x288 with 1 Axes>"
      ]
     },
     "metadata": {},
     "output_type": "display_data"
    }
   ],
   "source": [
    "# Create a binary version of hsd010 where 1-3 are \"good\" and 4-5 are \"poor\"\n",
    "nhanes_scaled['HSD010_binary'] = hsd010_binary = nhanes_scaled['HSD010'].replace(\n",
    "    [1, 2, 3, 4, 5], ['good', 'good', 'good', 'poor', 'poor']) \n",
    "# Recode the original hsd010 with the string labels\n",
    "nhanes_scaled['HSD010'] = nhanes_scaled['HSD010'].replace(\n",
    "    [1, 2, 3, 4, 5], ['excellent', 'very good', 'good', 'fair', 'poor'])\n",
    "# Boxplot of hsd010\n",
    "ax = sns.boxplot(x = 'HSD010', y = 'INDFMPIR', data = nhanes_scaled)\n",
    "ax.set(xlabel = \"Self Reported Health Condition\",\n",
    "      ylabel = \"Family Income to Poverty Line Ratio\")\n",
    "ax.set_title(\"Boxplot of Family Income to Poverty Line Ratio by Self-Reported Health Status\")\n",
    "plt.show()"
   ]
  },
  {
   "cell_type": "code",
   "execution_count": 4,
   "metadata": {},
   "outputs": [
    {
     "data": {
      "image/png": "[encoded data removed]",
      "text/plain": [
       "<Figure size 432x288 with 1 Axes>"
      ]
     },
     "metadata": {},
     "output_type": "display_data"
    }
   ],
   "source": [
    "# Boxplot of hsd010_binary\n",
    "ax = sns.boxplot(x = 'HSD010_binary', y = 'INDFMPIR', data = nhanes_scaled)\n",
    "ax.set(xlabel = \"Self Reported Health Condition\",\n",
    "      ylabel = \"Family Income to Poverty Line Ratio\")\n",
    "ax.set_title(\"Boxplot of Family Income to Poverty Line Ratio by Binary Self-Reported Health Status\")\n",
    "plt.show()"
   ]
  },
  {
   "cell_type": "markdown",
   "metadata": {},
   "source": [
    "Family income also is not necessarily well correlated with measured health outcomes. See below where we look at the relationship between Body Mass Index (BMI) and the family income-poverty line ratio, and shade points by self-reported health condition. It's hard to find a clear pattern - this is where clustering may come in handy. "
   ]
  },
  {
   "cell_type": "code",
   "execution_count": 5,
   "metadata": {},
   "outputs": [
    {
     "data": {
      "image/png": "[encoded data removed]",
      "text/plain": [
       "<Figure size 432x288 with 1 Axes>"
      ]
     },
     "metadata": {},
     "output_type": "display_data"
    }
   ],
   "source": [
    "ax = sns.scatterplot(x = \"INDFMPIR\", y = \"BMXBMI\", hue = \"HSD010\", palette = \"tab10\", data = nhanes_scaled)\n",
    "ax.set(xlabel = \"Income to Poverty Line Ratio\",\n",
    "      ylabel = \"Body Mass Index\")\n",
    "ax.set_title(\"BMI v. Income-Poverty Ratio\")\n",
    "plt.show()"
   ]
  },
  {
   "cell_type": "markdown",
   "metadata": {},
   "source": [
    "Before we move to working on unsupervised methods, we'll drop our target variables again:"
   ]
  },
  {
   "cell_type": "code",
   "execution_count": 6,
   "metadata": {},
   "outputs": [],
   "source": [
    "nhanes_scaled = nhanes_scaled.drop(['HSD010'], axis = 1)\n",
    "nhanes_scaled_X = nhanes_scaled.drop(['HSD010_binary'], axis = 1)"
   ]
  },
  {
   "cell_type": "markdown",
   "metadata": {},
   "source": [
    "## Principal Component Analysis"
   ]
  },
  {
   "cell_type": "markdown",
   "metadata": {},
   "source": [
    "Conduct a Principal Component Analysis (PCA) of the nhanes data. The data has already been prepared for you, so you can work directly on nhanes_scaled. Be sure to do the following:\n",
    "\n",
    "- Choose the number of components and provide 1-2 sentences about your choice of the number of components.\n",
    "- Plot a barplot of the variation explains by each component.\n",
    "- Choose how many components you will use to fit a supervised learning model and provide 1-2 sentences to explain that choice.\n",
    "- Plot a 2D scatterplot of the first two components and provide 1-2 sentences analyzing the plot."
   ]
  },
  {
   "cell_type": "markdown",
   "metadata": {},
   "source": [
    "### Train PCA and Discuss Number of Components"
   ]
  },
  {
   "cell_type": "code",
   "execution_count": 7,
   "metadata": {},
   "outputs": [],
   "source": [
    "X = nhanes_scaled_X"
   ]
  },
  {
   "cell_type": "code",
   "execution_count": 8,
   "metadata": {},
   "outputs": [],
   "source": [
    "## Your Answer Here\n",
    "pca = PCA(n_components=2)\n",
    "principalComponents_nhanes = pca.fit_transform(X)"
   ]
  },
  {
   "cell_type": "code",
   "execution_count": 9,
   "metadata": {},
   "outputs": [
    {
     "data": {
      "text/html": [
       "<div>\n",
       "<style scoped>\n",
       "    .dataframe tbody tr th:only-of-type {\n",
       "        vertical-align: middle;\n",
       "    }\n",
       "\n",
       "    .dataframe tbody tr th {\n",
       "        vertical-align: top;\n",
       "    }\n",
       "\n",
       "    .dataframe thead th {\n",
       "        text-align: right;\n",
       "    }\n",
       "</style>\n",
       "<table border=\"1\" class=\"dataframe\">\n",
       "  <thead>\n",
       "    <tr style=\"text-align: right;\">\n",
       "      <th></th>\n",
       "      <th>DR1DRSTZ</th>\n",
       "      <th>DR1EXMER</th>\n",
       "      <th>DRABF</th>\n",
       "      <th>DRDINT</th>\n",
       "      <th>DR1DBIH</th>\n",
       "      <th>DR1DAY</th>\n",
       "      <th>DR1LANG</th>\n",
       "      <th>DR1MNRSP</th>\n",
       "      <th>DR1HELPD</th>\n",
       "      <th>DBQ095Z</th>\n",
       "      <th>...</th>\n",
       "      <th>OHQ033</th>\n",
       "      <th>OHQ770</th>\n",
       "      <th>OHQ845</th>\n",
       "      <th>PAAQUEX</th>\n",
       "      <th>SMQ860</th>\n",
       "      <th>SMQ870</th>\n",
       "      <th>SMQ872</th>\n",
       "      <th>SMQ874</th>\n",
       "      <th>SMQ878</th>\n",
       "      <th>SMAQUEX.x</th>\n",
       "    </tr>\n",
       "    <tr>\n",
       "      <th>SEQN</th>\n",
       "      <th></th>\n",
       "      <th></th>\n",
       "      <th></th>\n",
       "      <th></th>\n",
       "      <th></th>\n",
       "      <th></th>\n",
       "      <th></th>\n",
       "      <th></th>\n",
       "      <th></th>\n",
       "      <th></th>\n",
       "      <th></th>\n",
       "      <th></th>\n",
       "      <th></th>\n",
       "      <th></th>\n",
       "      <th></th>\n",
       "      <th></th>\n",
       "      <th></th>\n",
       "      <th></th>\n",
       "      <th></th>\n",
       "      <th></th>\n",
       "      <th></th>\n",
       "    </tr>\n",
       "  </thead>\n",
       "  <tbody>\n",
       "    <tr>\n",
       "      <th>73568</th>\n",
       "      <td>0.0</td>\n",
       "      <td>2.034312</td>\n",
       "      <td>0.0</td>\n",
       "      <td>0.324834</td>\n",
       "      <td>-0.393906</td>\n",
       "      <td>1.085853</td>\n",
       "      <td>-0.194202</td>\n",
       "      <td>-0.057306</td>\n",
       "      <td>0.128246</td>\n",
       "      <td>-0.189513</td>\n",
       "      <td>...</td>\n",
       "      <td>-0.680203</td>\n",
       "      <td>0.383802</td>\n",
       "      <td>-0.646584</td>\n",
       "      <td>-0.484200</td>\n",
       "      <td>1.125008</td>\n",
       "      <td>0.0</td>\n",
       "      <td>-2.081666</td>\n",
       "      <td>1.087115</td>\n",
       "      <td>1.463404</td>\n",
       "      <td>0.612440</td>\n",
       "    </tr>\n",
       "    <tr>\n",
       "      <th>73576</th>\n",
       "      <td>0.0</td>\n",
       "      <td>0.261930</td>\n",
       "      <td>0.0</td>\n",
       "      <td>-3.078499</td>\n",
       "      <td>0.568251</td>\n",
       "      <td>0.634362</td>\n",
       "      <td>-0.194202</td>\n",
       "      <td>-0.057306</td>\n",
       "      <td>0.128246</td>\n",
       "      <td>0.080373</td>\n",
       "      <td>...</td>\n",
       "      <td>-0.680203</td>\n",
       "      <td>0.383802</td>\n",
       "      <td>-1.539259</td>\n",
       "      <td>-0.484200</td>\n",
       "      <td>1.125008</td>\n",
       "      <td>0.0</td>\n",
       "      <td>-2.081666</td>\n",
       "      <td>1.087115</td>\n",
       "      <td>-0.683338</td>\n",
       "      <td>-1.632812</td>\n",
       "    </tr>\n",
       "    <tr>\n",
       "      <th>73579</th>\n",
       "      <td>0.0</td>\n",
       "      <td>0.728346</td>\n",
       "      <td>0.0</td>\n",
       "      <td>0.324834</td>\n",
       "      <td>1.530407</td>\n",
       "      <td>-1.623092</td>\n",
       "      <td>-0.194202</td>\n",
       "      <td>-0.057306</td>\n",
       "      <td>0.128246</td>\n",
       "      <td>-0.189513</td>\n",
       "      <td>...</td>\n",
       "      <td>-0.680203</td>\n",
       "      <td>0.383802</td>\n",
       "      <td>-1.539259</td>\n",
       "      <td>2.065262</td>\n",
       "      <td>-0.888883</td>\n",
       "      <td>0.0</td>\n",
       "      <td>0.480384</td>\n",
       "      <td>-0.919866</td>\n",
       "      <td>-0.683338</td>\n",
       "      <td>-1.632812</td>\n",
       "    </tr>\n",
       "    <tr>\n",
       "      <th>73581</th>\n",
       "      <td>0.0</td>\n",
       "      <td>-0.857470</td>\n",
       "      <td>0.0</td>\n",
       "      <td>0.324834</td>\n",
       "      <td>0.480782</td>\n",
       "      <td>1.085853</td>\n",
       "      <td>-0.194202</td>\n",
       "      <td>-0.057306</td>\n",
       "      <td>0.128246</td>\n",
       "      <td>0.080373</td>\n",
       "      <td>...</td>\n",
       "      <td>-0.680203</td>\n",
       "      <td>0.383802</td>\n",
       "      <td>-0.646584</td>\n",
       "      <td>-0.484200</td>\n",
       "      <td>1.125008</td>\n",
       "      <td>0.0</td>\n",
       "      <td>0.480384</td>\n",
       "      <td>-0.919866</td>\n",
       "      <td>-0.683338</td>\n",
       "      <td>0.612440</td>\n",
       "    </tr>\n",
       "    <tr>\n",
       "      <th>73584</th>\n",
       "      <td>0.0</td>\n",
       "      <td>0.495138</td>\n",
       "      <td>0.0</td>\n",
       "      <td>0.324834</td>\n",
       "      <td>0.305844</td>\n",
       "      <td>-1.623092</td>\n",
       "      <td>-0.194202</td>\n",
       "      <td>-0.057306</td>\n",
       "      <td>0.128246</td>\n",
       "      <td>0.080373</td>\n",
       "      <td>...</td>\n",
       "      <td>-0.680203</td>\n",
       "      <td>-2.605509</td>\n",
       "      <td>0.246091</td>\n",
       "      <td>2.065262</td>\n",
       "      <td>1.125008</td>\n",
       "      <td>0.0</td>\n",
       "      <td>0.480384</td>\n",
       "      <td>-0.919866</td>\n",
       "      <td>1.463404</td>\n",
       "      <td>-1.632812</td>\n",
       "    </tr>\n",
       "  </tbody>\n",
       "</table>\n",
       "<p>5 rows × 241 columns</p>\n",
       "</div>"
      ],
      "text/plain": [
       "       DR1DRSTZ  DR1EXMER  DRABF    DRDINT   DR1DBIH    DR1DAY   DR1LANG  \\\n",
       "SEQN                                                                       \n",
       "73568       0.0  2.034312    0.0  0.324834 -0.393906  1.085853 -0.194202   \n",
       "73576       0.0  0.261930    0.0 -3.078499  0.568251  0.634362 -0.194202   \n",
       "73579       0.0  0.728346    0.0  0.324834  1.530407 -1.623092 -0.194202   \n",
       "73581       0.0 -0.857470    0.0  0.324834  0.480782  1.085853 -0.194202   \n",
       "73584       0.0  0.495138    0.0  0.324834  0.305844 -1.623092 -0.194202   \n",
       "\n",
       "       DR1MNRSP  DR1HELPD   DBQ095Z  ...    OHQ033    OHQ770    OHQ845  \\\n",
       "SEQN                                 ...                                 \n",
       "73568 -0.057306  0.128246 -0.189513  ... -0.680203  0.383802 -0.646584   \n",
       "73576 -0.057306  0.128246  0.080373  ... -0.680203  0.383802 -1.539259   \n",
       "73579 -0.057306  0.128246 -0.189513  ... -0.680203  0.383802 -1.539259   \n",
       "73581 -0.057306  0.128246  0.080373  ... -0.680203  0.383802 -0.646584   \n",
       "73584 -0.057306  0.128246  0.080373  ... -0.680203 -2.605509  0.246091   \n",
       "\n",
       "        PAAQUEX    SMQ860  SMQ870    SMQ872    SMQ874    SMQ878  SMAQUEX.x  \n",
       "SEQN                                                                        \n",
       "73568 -0.484200  1.125008     0.0 -2.081666  1.087115  1.463404   0.612440  \n",
       "73576 -0.484200  1.125008     0.0 -2.081666  1.087115 -0.683338  -1.632812  \n",
       "73579  2.065262 -0.888883     0.0  0.480384 -0.919866 -0.683338  -1.632812  \n",
       "73581 -0.484200  1.125008     0.0  0.480384 -0.919866 -0.683338   0.612440  \n",
       "73584  2.065262  1.125008     0.0  0.480384 -0.919866  1.463404  -1.632812  \n",
       "\n",
       "[5 rows x 241 columns]"
      ]
     },
     "execution_count": 9,
     "metadata": {},
     "output_type": "execute_result"
    }
   ],
   "source": [
    "nhanes_scaled_X.head()"
   ]
  },
  {
   "cell_type": "markdown",
   "metadata": {},
   "source": [
    "### Barplot of Components"
   ]
  },
  {
   "cell_type": "code",
   "execution_count": 10,
   "metadata": {},
   "outputs": [
    {
     "data": {
      "text/html": [
       "<div>\n",
       "<style scoped>\n",
       "    .dataframe tbody tr th:only-of-type {\n",
       "        vertical-align: middle;\n",
       "    }\n",
       "\n",
       "    .dataframe tbody tr th {\n",
       "        vertical-align: top;\n",
       "    }\n",
       "\n",
       "    .dataframe thead th {\n",
       "        text-align: right;\n",
       "    }\n",
       "</style>\n",
       "<table border=\"1\" class=\"dataframe\">\n",
       "  <thead>\n",
       "    <tr style=\"text-align: right;\">\n",
       "      <th></th>\n",
       "      <th>principal component 1</th>\n",
       "      <th>principal component 2</th>\n",
       "    </tr>\n",
       "  </thead>\n",
       "  <tbody>\n",
       "    <tr>\n",
       "      <th>0</th>\n",
       "      <td>9.527811</td>\n",
       "      <td>-0.816221</td>\n",
       "    </tr>\n",
       "    <tr>\n",
       "      <th>1</th>\n",
       "      <td>-5.838338</td>\n",
       "      <td>-3.692572</td>\n",
       "    </tr>\n",
       "    <tr>\n",
       "      <th>2</th>\n",
       "      <td>-0.719454</td>\n",
       "      <td>-2.573202</td>\n",
       "    </tr>\n",
       "    <tr>\n",
       "      <th>3</th>\n",
       "      <td>3.533627</td>\n",
       "      <td>-2.576979</td>\n",
       "    </tr>\n",
       "    <tr>\n",
       "      <th>4</th>\n",
       "      <td>-6.872095</td>\n",
       "      <td>-4.194241</td>\n",
       "    </tr>\n",
       "  </tbody>\n",
       "</table>\n",
       "</div>"
      ],
      "text/plain": [
       "   principal component 1  principal component 2\n",
       "0               9.527811              -0.816221\n",
       "1              -5.838338              -3.692572\n",
       "2              -0.719454              -2.573202\n",
       "3               3.533627              -2.576979\n",
       "4              -6.872095              -4.194241"
      ]
     },
     "execution_count": 10,
     "metadata": {},
     "output_type": "execute_result"
    }
   ],
   "source": [
    "## Your Answer Here\n",
    "pca_df = pd.DataFrame(data = principalComponents_nhanes\n",
    "             , columns = ['principal component 1', 'principal component 2'])\n",
    "pca_df.head()"
   ]
  },
  {
   "cell_type": "code",
   "execution_count": 11,
   "metadata": {},
   "outputs": [
    {
     "data": {
      "text/html": [
       "<div>\n",
       "<style scoped>\n",
       "    .dataframe tbody tr th:only-of-type {\n",
       "        vertical-align: middle;\n",
       "    }\n",
       "\n",
       "    .dataframe tbody tr th {\n",
       "        vertical-align: top;\n",
       "    }\n",
       "\n",
       "    .dataframe thead th {\n",
       "        text-align: right;\n",
       "    }\n",
       "</style>\n",
       "<table border=\"1\" class=\"dataframe\">\n",
       "  <thead>\n",
       "    <tr style=\"text-align: right;\">\n",
       "      <th></th>\n",
       "      <th>principal component 1</th>\n",
       "      <th>principal component 2</th>\n",
       "    </tr>\n",
       "  </thead>\n",
       "  <tbody>\n",
       "    <tr>\n",
       "      <th>0</th>\n",
       "      <td>9.527811</td>\n",
       "      <td>-0.816221</td>\n",
       "    </tr>\n",
       "    <tr>\n",
       "      <th>1</th>\n",
       "      <td>-5.838338</td>\n",
       "      <td>-3.692572</td>\n",
       "    </tr>\n",
       "    <tr>\n",
       "      <th>2</th>\n",
       "      <td>-0.719454</td>\n",
       "      <td>-2.573202</td>\n",
       "    </tr>\n",
       "    <tr>\n",
       "      <th>3</th>\n",
       "      <td>3.533627</td>\n",
       "      <td>-2.576979</td>\n",
       "    </tr>\n",
       "    <tr>\n",
       "      <th>4</th>\n",
       "      <td>-6.872095</td>\n",
       "      <td>-4.194241</td>\n",
       "    </tr>\n",
       "    <tr>\n",
       "      <th>...</th>\n",
       "      <td>...</td>\n",
       "      <td>...</td>\n",
       "    </tr>\n",
       "    <tr>\n",
       "      <th>2059</th>\n",
       "      <td>2.643318</td>\n",
       "      <td>-1.689355</td>\n",
       "    </tr>\n",
       "    <tr>\n",
       "      <th>2060</th>\n",
       "      <td>1.037905</td>\n",
       "      <td>-0.118062</td>\n",
       "    </tr>\n",
       "    <tr>\n",
       "      <th>2061</th>\n",
       "      <td>1.130254</td>\n",
       "      <td>-0.970432</td>\n",
       "    </tr>\n",
       "    <tr>\n",
       "      <th>2062</th>\n",
       "      <td>7.145092</td>\n",
       "      <td>-0.376751</td>\n",
       "    </tr>\n",
       "    <tr>\n",
       "      <th>2063</th>\n",
       "      <td>0.050869</td>\n",
       "      <td>-0.967298</td>\n",
       "    </tr>\n",
       "  </tbody>\n",
       "</table>\n",
       "<p>2064 rows × 2 columns</p>\n",
       "</div>"
      ],
      "text/plain": [
       "      principal component 1  principal component 2\n",
       "0                  9.527811              -0.816221\n",
       "1                 -5.838338              -3.692572\n",
       "2                 -0.719454              -2.573202\n",
       "3                  3.533627              -2.576979\n",
       "4                 -6.872095              -4.194241\n",
       "...                     ...                    ...\n",
       "2059               2.643318              -1.689355\n",
       "2060               1.037905              -0.118062\n",
       "2061               1.130254              -0.970432\n",
       "2062               7.145092              -0.376751\n",
       "2063               0.050869              -0.967298\n",
       "\n",
       "[2064 rows x 2 columns]"
      ]
     },
     "execution_count": 11,
     "metadata": {},
     "output_type": "execute_result"
    }
   ],
   "source": [
    "pca_df"
   ]
  },
  {
   "cell_type": "code",
   "execution_count": 14,
   "metadata": {},
   "outputs": [
    {
     "data": {
      "image/png": "[encoded data removed]",
      "text/plain": [
       "<Figure size 432x288 with 1 Axes>"
      ]
     },
     "metadata": {},
     "output_type": "display_data"
    }
   ],
   "source": [
    "features = range(pca.n_components_)\n",
    "plt.bar(features, pca.explained_variance_ratio_, color='black')\n",
    "plt.xlabel('PCA features')\n",
    "plt.ylabel('variance %')\n",
    "plt.xticks(features)\n",
    "plt.show()"
   ]
  },
  {
   "cell_type": "markdown",
   "metadata": {},
   "source": [
    "### How many components will you use to fit a supervised learning model?"
   ]
  },
  {
   "cell_type": "code",
   "execution_count": 18,
   "metadata": {},
   "outputs": [],
   "source": [
    "## Your Answer Here\n",
    "\n",
    "pca_final = pd.concat([pca_df, nhanes_scaled['HSD010_binary']], axis =1)"
   ]
  },
  {
   "cell_type": "code",
   "execution_count": 22,
   "metadata": {},
   "outputs": [
    {
     "data": {
      "text/html": [
       "<div>\n",
       "<style scoped>\n",
       "    .dataframe tbody tr th:only-of-type {\n",
       "        vertical-align: middle;\n",
       "    }\n",
       "\n",
       "    .dataframe tbody tr th {\n",
       "        vertical-align: top;\n",
       "    }\n",
       "\n",
       "    .dataframe thead th {\n",
       "        text-align: right;\n",
       "    }\n",
       "</style>\n",
       "<table border=\"1\" class=\"dataframe\">\n",
       "  <thead>\n",
       "    <tr style=\"text-align: right;\">\n",
       "      <th></th>\n",
       "      <th>principal component 1</th>\n",
       "      <th>principal component 2</th>\n",
       "      <th>HSD010_binary</th>\n",
       "    </tr>\n",
       "  </thead>\n",
       "  <tbody>\n",
       "    <tr>\n",
       "      <th>0</th>\n",
       "      <td>9.527811</td>\n",
       "      <td>-0.816221</td>\n",
       "      <td>NaN</td>\n",
       "    </tr>\n",
       "    <tr>\n",
       "      <th>1</th>\n",
       "      <td>-5.838338</td>\n",
       "      <td>-3.692572</td>\n",
       "      <td>NaN</td>\n",
       "    </tr>\n",
       "    <tr>\n",
       "      <th>2</th>\n",
       "      <td>-0.719454</td>\n",
       "      <td>-2.573202</td>\n",
       "      <td>NaN</td>\n",
       "    </tr>\n",
       "    <tr>\n",
       "      <th>3</th>\n",
       "      <td>3.533627</td>\n",
       "      <td>-2.576979</td>\n",
       "      <td>NaN</td>\n",
       "    </tr>\n",
       "    <tr>\n",
       "      <th>4</th>\n",
       "      <td>-6.872095</td>\n",
       "      <td>-4.194241</td>\n",
       "      <td>NaN</td>\n",
       "    </tr>\n",
       "  </tbody>\n",
       "</table>\n",
       "</div>"
      ],
      "text/plain": [
       "   principal component 1  principal component 2 HSD010_binary\n",
       "0               9.527811              -0.816221           NaN\n",
       "1              -5.838338              -3.692572           NaN\n",
       "2              -0.719454              -2.573202           NaN\n",
       "3               3.533627              -2.576979           NaN\n",
       "4              -6.872095              -4.194241           NaN"
      ]
     },
     "execution_count": 22,
     "metadata": {},
     "output_type": "execute_result"
    }
   ],
   "source": [
    "pca_final.head()"
   ]
  },
  {
   "cell_type": "markdown",
   "metadata": {},
   "source": [
    "### 2D Scatterplot of the first two components"
   ]
  },
  {
   "cell_type": "code",
   "execution_count": 24,
   "metadata": {},
   "outputs": [
    {
     "data": {
      "text/html": [
       "<div>\n",
       "<style scoped>\n",
       "    .dataframe tbody tr th:only-of-type {\n",
       "        vertical-align: middle;\n",
       "    }\n",
       "\n",
       "    .dataframe tbody tr th {\n",
       "        vertical-align: top;\n",
       "    }\n",
       "\n",
       "    .dataframe thead th {\n",
       "        text-align: right;\n",
       "    }\n",
       "</style>\n",
       "<table border=\"1\" class=\"dataframe\">\n",
       "  <thead>\n",
       "    <tr style=\"text-align: right;\">\n",
       "      <th></th>\n",
       "      <th>0</th>\n",
       "      <th>1</th>\n",
       "      <th>HSD010</th>\n",
       "      <th>HSD010_binary</th>\n",
       "    </tr>\n",
       "  </thead>\n",
       "  <tbody>\n",
       "    <tr>\n",
       "      <th>0</th>\n",
       "      <td>9.527811</td>\n",
       "      <td>-0.816221</td>\n",
       "      <td>1</td>\n",
       "      <td>good</td>\n",
       "    </tr>\n",
       "    <tr>\n",
       "      <th>1</th>\n",
       "      <td>-5.838338</td>\n",
       "      <td>-3.692572</td>\n",
       "      <td>1</td>\n",
       "      <td>good</td>\n",
       "    </tr>\n",
       "    <tr>\n",
       "      <th>2</th>\n",
       "      <td>-0.719454</td>\n",
       "      <td>-2.573202</td>\n",
       "      <td>2</td>\n",
       "      <td>good</td>\n",
       "    </tr>\n",
       "    <tr>\n",
       "      <th>3</th>\n",
       "      <td>3.533627</td>\n",
       "      <td>-2.576979</td>\n",
       "      <td>2</td>\n",
       "      <td>good</td>\n",
       "    </tr>\n",
       "    <tr>\n",
       "      <th>4</th>\n",
       "      <td>-6.872095</td>\n",
       "      <td>-4.194241</td>\n",
       "      <td>3</td>\n",
       "      <td>good</td>\n",
       "    </tr>\n",
       "    <tr>\n",
       "      <th>...</th>\n",
       "      <td>...</td>\n",
       "      <td>...</td>\n",
       "      <td>...</td>\n",
       "      <td>...</td>\n",
       "    </tr>\n",
       "    <tr>\n",
       "      <th>2059</th>\n",
       "      <td>2.643318</td>\n",
       "      <td>-1.689355</td>\n",
       "      <td>3</td>\n",
       "      <td>good</td>\n",
       "    </tr>\n",
       "    <tr>\n",
       "      <th>2060</th>\n",
       "      <td>1.037905</td>\n",
       "      <td>-0.118062</td>\n",
       "      <td>2</td>\n",
       "      <td>good</td>\n",
       "    </tr>\n",
       "    <tr>\n",
       "      <th>2061</th>\n",
       "      <td>1.130254</td>\n",
       "      <td>-0.970432</td>\n",
       "      <td>4</td>\n",
       "      <td>poor</td>\n",
       "    </tr>\n",
       "    <tr>\n",
       "      <th>2062</th>\n",
       "      <td>7.145092</td>\n",
       "      <td>-0.376751</td>\n",
       "      <td>1</td>\n",
       "      <td>good</td>\n",
       "    </tr>\n",
       "    <tr>\n",
       "      <th>2063</th>\n",
       "      <td>0.050869</td>\n",
       "      <td>-0.967298</td>\n",
       "      <td>2</td>\n",
       "      <td>good</td>\n",
       "    </tr>\n",
       "  </tbody>\n",
       "</table>\n",
       "<p>2064 rows × 4 columns</p>\n",
       "</div>"
      ],
      "text/plain": [
       "             0         1  HSD010 HSD010_binary\n",
       "0     9.527811 -0.816221       1          good\n",
       "1    -5.838338 -3.692572       1          good\n",
       "2    -0.719454 -2.573202       2          good\n",
       "3     3.533627 -2.576979       2          good\n",
       "4    -6.872095 -4.194241       3          good\n",
       "...        ...       ...     ...           ...\n",
       "2059  2.643318 -1.689355       3          good\n",
       "2060  1.037905 -0.118062       2          good\n",
       "2061  1.130254 -0.970432       4          poor\n",
       "2062  7.145092 -0.376751       1          good\n",
       "2063  0.050869 -0.967298       2          good\n",
       "\n",
       "[2064 rows x 4 columns]"
      ]
     },
     "execution_count": 24,
     "metadata": {},
     "output_type": "execute_result"
    }
   ],
   "source": [
    "pc_df = pd.DataFrame(data = principalComponents_nhanes)\n",
    "pc_df\n",
    "\n",
    "plot_df = pd.concat([pc_df, hsd010], axis = 1)\n",
    "\n",
    "#Recode to make hsd010 binary\n",
    "plot_df['HSD010_binary'] = hsd010_binary = plot_df['HSD010'].replace(\n",
    "    [1, 2, 3, 4, 5], ['good', 'good', 'good', 'poor', 'poor'])\n",
    "plot_df"
   ]
  },
  {
   "cell_type": "code",
   "execution_count": 25,
   "metadata": {},
   "outputs": [
    {
     "data": {
      "image/png": "[encoded data removed]",
      "text/plain": [
       "<Figure size 432x288 with 1 Axes>"
      ]
     },
     "metadata": {},
     "output_type": "display_data"
    }
   ],
   "source": [
    "ax = sns.scatterplot(x = plot_df[0], y = plot_df[1], hue = 'HSD010_binary', data = plot_df)\n",
    "ax.set(xlabel = \"Principal Component 1\",\n",
    "      ylabel = \"Principal Component 2\")\n",
    "ax.set_title(\"First Two Principal Components of National Health and Nutrition Examination Data\")\n",
    "plt.show()"
   ]
  },
  {
   "cell_type": "markdown",
   "metadata": {},
   "source": [
    "## Clustering"
   ]
  },
  {
   "cell_type": "markdown",
   "metadata": {},
   "source": [
    "- Choose a clustering algorithm and explain it in 1-2 sentences.\n",
    "- Cluster the nhanes data. Detail any choice you need to make with regards to number of clusters, and how you arrived at that choice. For instance, you might use the [elbow method](https://en.wikipedia.org/wiki/Elbow_method_(clustering) if you choose k-means.\n",
    "- Plot your clusters on top of BMI v. Income Poverty Ratio Plot. Describe what you see in 1-2 sentences.\n",
    "- Retrain the clustering algorithm, but this time use your PCA results instead of the original dataframe. Plot the clusters on top of the 2D PCA scatterplot from the previous step. Describe your results in 1-2 sentences."
   ]
  },
  {
   "cell_type": "markdown",
   "metadata": {},
   "source": [
    "### K-Means Clustering\n",
    "\n",
    "The k-means algorithm divides a set of samples into k clusters, arbitrarily in an initial division and then adjusted based on the nearest cluster centroid (the mean of the samples in that cluster). The process of assigning and re-calculating the centroid is repeated until the old and new centroids no longer change significantly; i.e., until the optimal centroids are identified with the aim to minimize the within-cluster sum of squares. "
   ]
  },
  {
   "cell_type": "markdown",
   "metadata": {},
   "source": [
    "### Cluster nhanes"
   ]
  },
  {
   "cell_type": "markdown",
   "metadata": {},
   "source": [
    "To determine the number of clusters, we use both the elbow method and silhouette coefficient."
   ]
  },
  {
   "cell_type": "code",
   "execution_count": null,
   "metadata": {
    "scrolled": false
   },
   "outputs": [],
   "source": [
    "np.random.seed(10)\n",
    "\n",
    "# Elbow Method\n",
    "sse = {}\n",
    "for k in range(1, 10):\n",
    "    kmeans = KMeans(n_clusters=k, max_iter=300).fit(nhanes_scaled_X)\n",
    "    nhanes_scaled_X[\"clusters\"] = kmeans.labels_\n",
    "    sse[k] = kmeans.inertia_ # Inertia: Sum of distances of samples to their closest cluster center\n",
    "plt.figure()\n",
    "plt.plot(list(sse.keys()), list(sse.values()))\n",
    "plt.xlabel(\"Number of clusters\")\n",
    "plt.ylabel(\"SSE\")\n",
    "plt.show()"
   ]
  },
  {
   "cell_type": "markdown",
   "metadata": {},
   "source": [
    "The elbow method shows an optimal number of clusters around 3 or 4. \n",
    "\n",
    "To see which would be a better choice, we also calculate the silhoette score, which gives a measures of how close or far a cluster is from neighboring clusters. The score ranges from -1 to 1, where a value closer to 1 indicates that the cluster is further away from neighboring clusters and a score near 0 indicates that the clusters are very close to neighboring clusters. A negative score may be indicative of incorrect cluster assignment.  "
   ]
  },
  {
   "cell_type": "code",
   "execution_count": null,
   "metadata": {},
   "outputs": [],
   "source": [
    "# Silhouette Coefficient\n",
    "from sklearn.metrics import silhouette_score\n",
    "\n",
    "for n_cluster in range(2, 11):\n",
    "    kmeans = KMeans(n_clusters=n_cluster).fit(nhanes_scaled_X)\n",
    "    label = kmeans.labels_\n",
    "    sil_coeff = silhouette_score(nhanes_scaled_X, label, metric='euclidean')\n",
    "    print(\"For n_clusters={}, the silhouette score is {}\".format(n_cluster, sil_coeff))\n"
   ]
  },
  {
   "cell_type": "markdown",
   "metadata": {},
   "source": [
    "The silhouette score is highest for 3 clusters and substantially higher than 4 clusters, so we choose 3 clusters."
   ]
  },
  {
   "cell_type": "code",
   "execution_count": null,
   "metadata": {},
   "outputs": [],
   "source": [
    "# Choose 3 clusters\n",
    "kmeans = KMeans(n_clusters=3,\n",
    "               max_iter=300 #default\n",
    "               ).fit(nhanes_scaled_X)"
   ]
  },
  {
   "cell_type": "code",
   "execution_count": null,
   "metadata": {},
   "outputs": [],
   "source": [
    "nhanes_scaled_X"
   ]
  },
  {
   "cell_type": "code",
   "execution_count": null,
   "metadata": {},
   "outputs": [],
   "source": [
    "print(\"Centers\")\n",
    "print(kmeans.cluster_centers_)\n",
    "print()\n",
    "\n",
    "print(\"Labels\")\n",
    "print(kmeans.labels_)\n",
    "print()\n",
    "\n",
    "for point, label in zip(nhanes_scaled_X, kmeans.labels_):\n",
    "    print(\"Coordinates:\", point, \"Label:\", label)"
   ]
  },
  {
   "cell_type": "markdown",
   "metadata": {},
   "source": [
    "### Plot your clusters on top of the BMI v. Income Poverty Ratio Plot"
   ]
  },
  {
   "cell_type": "code",
   "execution_count": null,
   "metadata": {},
   "outputs": [],
   "source": [
    "nhanes_scaled_X['labels'] = kmeans.labels_"
   ]
  },
  {
   "cell_type": "code",
   "execution_count": null,
   "metadata": {},
   "outputs": [],
   "source": [
    "nhanes_scaled_X['labels'].value_counts()"
   ]
  },
  {
   "cell_type": "code",
   "execution_count": null,
   "metadata": {
    "scrolled": false
   },
   "outputs": [],
   "source": [
    "ax = sns.scatterplot(x = \"INDFMPIR\", y = \"BMXBMI\", hue=\"labels\", palette = \"tab10\", data = nhanes_scaled_X)\n",
    "ax.set(xlabel = \"Income to Poverty Line Ratio\",\n",
    "      ylabel = \"Body Mass Index\")\n",
    "ax.set_title(\"BMI v. Income-Poverty Ratio\")\n",
    "plt.show()"
   ]
  },
  {
   "cell_type": "code",
   "execution_count": null,
   "metadata": {
    "scrolled": true
   },
   "outputs": [],
   "source": [
    "## Your Answer Here\n",
    "fig = plt.figure()\n",
    "ax1 = fig.add_subplot(111)\n",
    "\n",
    "ax1.scatter(*nhanes_scaled_X[kmeans.labels_==0,:].T, s=50, c='r', label='Cluster 0')\n",
    "ax1.scatter(*nhanes_scaled_X[kmeans.labels_==1,:].T, s=50, c='b', label='Cluster 1')\n",
    "ax1.scatter(*nhanes_scaled_X[kmeans.labels_==2,:].T, s=50, c='g', label='Cluster 2')\n",
    "ax1.scatter(kmeans.cluster_centers_.T, s=50, marker='+', c='black', label='cluster centers')\n",
    "plt.legend(loc='upper left')\n",
    "plt.xlabel('feature0')\n",
    "plt.ylabel('feature1')\n",
    "plt.show()"
   ]
  },
  {
   "cell_type": "markdown",
   "metadata": {},
   "source": [
    "## Your Answer Here"
   ]
  },
  {
   "cell_type": "markdown",
   "metadata": {},
   "source": [
    "### Retrain the clustering algorithm on PCA components and plot clusters on your 2D scatter"
   ]
  },
  {
   "cell_type": "code",
   "execution_count": null,
   "metadata": {},
   "outputs": [],
   "source": [
    "## Need to update this with PCA plot\n",
    "\n",
    "pca_df['labels'] = kmeans.fit_predict(pca_df)\n",
    "pca_df['labels'].value_counts()\n",
    "\n",
    "ax = sns.scatterplot(x = \"principal component 1\", y = \"principal component 2\", hue=\"labels\", palette = \"tab10\", data = nhanes_scaled_X)\n",
    "ax.set(xlabel = \"Principal Component 1\",\n",
    "      ylabel = \"Principal Component 2\")\n",
    "ax.set_title(\"Principal Component Clustering\")\n",
    "plt.show()"
   ]
  },
  {
   "cell_type": "markdown",
   "metadata": {},
   "source": [
    "## Your Answer Here"
   ]
  },
  {
   "cell_type": "markdown",
   "metadata": {},
   "source": [
    "## Neural Network"
   ]
  },
  {
   "cell_type": "markdown",
   "metadata": {},
   "source": [
    "Now we are ready to predict! Do the following:\n",
    "\n",
    "- Choose either HSD010 or HSD010\\_binary as your target outcome.  \n",
    "- Train a neural network using the original features. Much of the code to train a basic neural net has been set up for you, but you will need to fill in a couple of missing pieces.\n",
    "- Train a neural network using only your PCA components as features.\n",
    "- Train a neural network using your PCA components and the predicted class membership from your clustering algorithm as features.\n",
    "- Compare and contrast how well each algorithm did. Which featurization technique would you pick and why?"
   ]
  },
  {
   "cell_type": "markdown",
   "metadata": {},
   "source": [
    "Below we provide a template for training a neural network. Use this template for training on the original features, on the PCA components, and the PCA components + the predicted classes from your clusters."
   ]
  },
  {
   "cell_type": "markdown",
   "metadata": {},
   "source": [
    "### Neural Network on Original Features"
   ]
  },
  {
   "cell_type": "code",
   "execution_count": null,
   "metadata": {},
   "outputs": [],
   "source": [
    "y = ... # either hsd010 or hsd010_binary\n",
    "X = ... # drop out any columns that aren't features\n",
    "\n",
    "X_train, X_test, y_train, y_test = train_test_split(X, y, test_size = .25, random_state = 10)"
   ]
  },
  {
   "cell_type": "code",
   "execution_count": null,
   "metadata": {},
   "outputs": [],
   "source": [
    "import keras\n",
    "from keras.models import Sequential\n",
    "from keras.layers import Dense, Dropout\n",
    "num_classes = ...\n",
    "\n",
    "# convert class vectors to binary class matrices\n",
    "y_train = keras.utils.to_categorical(..., ...)\n",
    "y_test = keras.utils.to_categorical(..., ...)\n",
    "num_classes = y_test.shape[1]"
   ]
  },
  {
   "cell_type": "code",
   "execution_count": null,
   "metadata": {},
   "outputs": [],
   "source": [
    "model = Sequential()\n",
    "\n",
    "model.add(\n",
    "    Dense(..., input_dim= ..., kernel_initializer= ..., activation= ...)\n",
    ")\n",
    "\n",
    "model.add(\n",
    "    Dense(..., kernel_initializer= ..., activation= ...)\n",
    ")\n",
    "\n",
    "## Add any additional layers you wish here\n",
    "\n",
    "model.compile(loss= ..., optimizer= ..., metrics=[...])\n",
    "\n",
    "model.fit(..., ..., validation_data=(..., ...), epochs=..., batch_size=..., verbose=...)"
   ]
  },
  {
   "cell_type": "markdown",
   "metadata": {},
   "source": [
    "### Neural Network on Principal Components"
   ]
  },
  {
   "cell_type": "code",
   "execution_count": null,
   "metadata": {},
   "outputs": [],
   "source": [
    "## Your Answer Here"
   ]
  },
  {
   "cell_type": "markdown",
   "metadata": {},
   "source": [
    "### Neural Network on Principal Components + Cluster Membership"
   ]
  },
  {
   "cell_type": "code",
   "execution_count": null,
   "metadata": {},
   "outputs": [],
   "source": [
    "## Your Answer Here"
   ]
  },
  {
   "cell_type": "markdown",
   "metadata": {},
   "source": [
    "## Discussion Questions"
   ]
  },
  {
   "cell_type": "markdown",
   "metadata": {},
   "source": [
    "1. In your own words, what is the difference between PCA and clustering?"
   ]
  },
  {
   "cell_type": "markdown",
   "metadata": {},
   "source": [
    "## Your Answer Here"
   ]
  },
  {
   "cell_type": "markdown",
   "metadata": {},
   "source": [
    "2. Did you notice any advantages to combining PCA and clustering? If so, what do you think they were? If not, why do you think you didn't see any gains from this combination?"
   ]
  },
  {
   "cell_type": "markdown",
   "metadata": {},
   "source": [
    "## Your Answer Here"
   ]
  },
  {
   "cell_type": "markdown",
   "metadata": {},
   "source": [
    "3. How can unsupervised techniques help with downstream supervised learning tasks when working with \"big data?\""
   ]
  },
  {
   "cell_type": "code",
   "execution_count": null,
   "metadata": {},
   "outputs": [],
   "source": [
    "## Your Answer Here"
   ]
  }
 ],
 "metadata": {
  "kernelspec": {
   "display_name": "Python 3",
   "language": "python",
   "name": "python3"
  },
  "language_info": {
   "codemirror_mode": {
    "name": "ipython",
    "version": 3
   },
   "file_extension": ".py",
   "mimetype": "text/x-python",
   "name": "python",
   "nbconvert_exporter": "python",
   "pygments_lexer": "ipython3",
   "version": "3.8.8"
  }
 },
 "nbformat": 4,
 "nbformat_minor": 4
}
